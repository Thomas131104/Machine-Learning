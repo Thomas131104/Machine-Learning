{
 "cells": [
  {
   "cell_type": "markdown",
   "id": "99f07e3c-181b-44c9-999a-6f8b4239e4dd",
   "metadata": {},
   "source": [
    "# **Hồi quy Logistic**"
   ]
  },
  {
   "cell_type": "markdown",
   "id": "0e862c98-7118-46d5-8b41-9dc9c32bcf45",
   "metadata": {},
   "source": [
    "- Sử dụng khi biến phụ thuộc là biến phân loại (Categorical Variable)\n",
    "\n",
    "- VD: Dự báo xác suất để một người không trả được nợ:\n",
    "    - Gọi biến phụ thuộc \"Vỡ nợ\" là y:\n",
    "        - y = 1: Vỡ nợ\n",
    "        - y = 0: Không vỡ nợ\n",
    "    - Dự báo P(y = 1)\n",
    "    - Suy ra P(y = 0) = 1 - P(y = 1)\n",
    "    - Các biến độ lập có thể:\n",
    "        - Thu nhập hàng tháng\n",
    "        - Tuổi\n",
    "        - Trình độ học vấn\n",
    "        - Tài sản đảm bảo\n",
    "    - Sử dụng hàm Logistic: P(y = 1) = 1 / (1 + e^(-(b0 + sigma(b_i*x_i)))"
   ]
  },
  {
   "cell_type": "markdown",
   "id": "94d88cd1-cccc-4c53-997f-95fdaa809fe7",
   "metadata": {},
   "source": [
    "# So sánh với mô hình hồi quy tuyến tính:\n",
    "    - Biểu diễn mục tiêu: Trong hồi quy tuyến tính, biến mục tiêu là một biến liên tục, có thể nhận giá trị bất kỳ trong một phạm vi cố định. Trong khi đó, trong hồi quy Logistic, biến mục tiêu là một biến nhị phân hoặc đa phân loại, chỉ nhận một số giá trị cố định, thường là 0 và 1 (trong trường hợp nhị phân) hoặc các nhóm được xác định trước (trong trường hợp đa phân loại).\n",
    "\n",
    "    - Hàm dự đoán: Trong hồi quy tuyến tính, hàm dự đoán là một hàm tuyến tính của các biến đầu vào. Trong hồi quy Logistic, hàm dự đoán là một hàm logistic (hay còn gọi là sigmoid), mà đầu ra của nó được chuyển đổi thành một giá trị xác suất ở giữa 0 và 1.\n",
    "\n",
    "    - Giá trị đầu ra: Trong hồi quy tuyến tính, giá trị đầu ra dự đoán là một số liên tục, thường là dự đoán của biến mục tiêu. Trong hồi quy Logistic, giá trị đầu ra dự đoán là một giá trị xác suất, thường được hiểu là xác suất của một sự kiện xảy ra (trong trường hợp nhị phân) hoặc xác suất của mỗi lớp (trong trường hợp đa phân loại).\n",
    "\n",
    "    - Hàm mất mát và tối ưu hóa: Trong hồi quy tuyến tính, hàm mất mát thường được sử dụng là hàm bình phương của sai số giữa giá trị dự đoán và giá trị thực tế. Trong hồi quy Logistic, hàm mất mát thường là hàm entropy chéo (cross-entropy loss) hoặc hàm lỗi log (log loss), được tối ưu hóa để tối đa hoặc tối thiểu hóa xác suất dự đoán đúng.\n",
    "\n",
    "    - Ứng dụng: Hồi quy tuyến tính thường được sử dụng cho các vấn đề dự đoán giá trị liên tục, trong khi hồi quy Logistic thường được sử dụng cho các vấn đề phân loại, như phân loại email spam, dự đoán khả năng mua hàng, hay chẩn đoán bệnh"
   ]
  },
  {
   "cell_type": "markdown",
   "id": "3e3adbe6-09f4-47a2-93f1-46ecf3cfa8e7",
   "metadata": {},
   "source": [
    "# Cm: Hồi quy logistic là thuật toán phân loại tuyến tính\n",
    "\n",
    "- Đặt z = b0 + sigma(b_i * x*i), với:\n",
    "    - b0, b_i: Các tham số cần mô hình hóa\n",
    "    - x_i: Biến đầu vào\n",
    "- Ta có: Hàm phân phối logistic P(y = y_i | x_i) = 1 / (1 + e^(-z))\n",
    "    - Dự báo y = 1 nếu P(y = 1) >= 0.5 --> z >= 0\n",
    "    - Dự báo y = 0 nếu P(y = 1) < 0.5 --> z < 0"
   ]
  },
  {
   "cell_type": "markdown",
   "id": "24fcd7f8-170c-4520-9705-4053d6fab826",
   "metadata": {},
   "source": [
    "Tham số Odds \n",
    "\n",
    "- Odds = e^(b0 + sigma(b_i * x_i))\n",
    "- log(Odds) = b0 + sigma(b_i * x_i)\n",
    "- Tỳ số Odds = P(y = 1) / P(y = 0)\n",
    "- Tỷ số Odds càng lớn, xác suất để y =1 càng lớn.\n",
    "\n",
    "- Diễn giải:\n",
    "    - Khi x tăng 1 --> log(Odds) tăng b0 đơn vị\n",
    "    - Khi x tăng 1 --> Tỷ số Odds tăng lên e^b0 lần\n",
    "    - b > 0: x càng lớn, xác suất để y = 1 càng lớn\n",
    "    - b < 0: x càng lớn, xác suất để y = 1 càng bé"
   ]
  },
  {
   "cell_type": "markdown",
   "id": "be21ff6a-5c64-46f0-a81e-f39ca2df666c",
   "metadata": {},
   "source": [
    "# **Ma trận nhầm lẫn (Confusion matrix)**"
   ]
  },
  {
   "cell_type": "markdown",
   "id": "944d412c-0af5-4ccc-84ae-7c6b250ba9ac",
   "metadata": {},
   "source": [
    "- Ví dụ: Kết quả (Thực tế, dự báo)\n",
    "    - TN = (0, 0)\n",
    "    - FN = (0, 1)\n",
    "    - FP = (1, 0)\n",
    "    - TP = (1, 1)\n",
    "- Mục tiêu: Làm cho FN và FP nhỏ nhất có thể\n",
    "\n",
    "- Một số đại lượng tiêu biểu\n",
    "    - N : Số quan sát\n",
    "    - Độ chính xác toàn thể: (TN + TP) / N (Tệ nhất khi mẫu không cân xứng)\n",
    "    - Sai số toàn thể (FP + FN) / N\n",
    "\n",
    "- Độ nhạy `(Sensitivity)`: Trong số các khách hàng thực tế vỡ nợ, có bao nhiêu phần trăm được dự báo vỡ nợ:\n",
    "    - ĐỘ nhạy = TP / (TP + FN)\n",
    "    - Sai số FN = FN / (TP + FN)\n",
    "\n",
    "\n",
    "- Độ đặc hiệu `(Specificity)`: Trong số các khách hàng thực tế không vỡ nợ, có bao nhiêu phần trăm được dự báo không vỡ nợ:\n",
    "    - Độ đặc hiệu = TN / (TN + FP)\n",
    "    - Sai số FN = FP / (TN + FP)\n",
    "\n",
    "- So sánh độ chính xác với mô hình cơ sở:\n",
    "    - Mô hình cơ sở dự báo giá trị đa số trong mẫu\n",
    "\n",
    "---\n",
    "\n",
    "- **`Một mô hình được coi là tốt khi có độ nhạy lớn và độ đặc hiệu lớn`**"
   ]
  },
  {
   "cell_type": "markdown",
   "id": "e8523dbd-9e59-44a8-b110-8a622fbb01e9",
   "metadata": {},
   "source": [
    "## VD: Một giảng viên của một môn học dự đoán tình trạng sinh viên và cái kết (Mỗi 1 sinh viên là một câu chuyện)\n",
    "\n",
    "- A1 = Sinh viên được dự đoán là qua môn và kết quả đúng như vậy\n",
    "- A2 = Sinh viên được dự đoán là qua môn nhưng thi rớt\n",
    "- A3 = Sinh viên được dự đoán là thi rớt nhưng qua môn\n",
    "- A4 = Sinh viên được dự đoán là thi rớt và kết quả đúng như vậy\n",
    "\n",
    "### Khi này: \n",
    "- Độ nhạy = A1 / (A1 + A3)\n",
    "- Độ đặc hiệu = A4 / (A2 + A4)"
   ]
  },
  {
   "cell_type": "markdown",
   "id": "5cd39b24-9187-4e66-88e3-efe701c7b022",
   "metadata": {},
   "source": [
    "#  Mối liên hệ giữa Độ nhạy và Độ đặc hiệu\n",
    "\n",
    "- Có thể ví sự đánh đổi giữa độ nhạy với độ đặc hiệu như `'Một người bình thường không thể giỏi ở bất cứ lĩnh vực nào'`:\n",
    "    - Trade-off tự nhiên: Khi tăng độ nhạy (Sensitivity) của mô hình để đảm bảo không bỏ sót các trường hợp dương tính, thường sẽ giảm độ đặc hiệu (Specificity), dẫn đến nhiều trường hợp âm tính bị dự đoán sai là dương tính.\n",
    "    - Ngưỡng quyết định: Ngưỡng quyết định trong mô hình hồi quy logistic ảnh hưởng lớn đến độ nhạy và độ đặc hiệu. Ngưỡng này quyết định xác suất dự đoán nào sẽ được coi là \"qua môn\" hoặc \"không qua môn\". Thay đổi ngưỡng này sẽ ảnh hưởng trực tiếp đến độ nhạy và độ đặc hiệu của mô hình.\n",
    "\n",
    " ---\n",
    "- Giá trị ngưỡng t:\n",
    "    - Nếu P(y = 1) >= t --> Dự báo y = 1\n",
    "    - Nếu P(y = 1) < t --> Dự báo y = 0\n",
    " \n",
    "- TH1: Nếu muốn giảm sai số dương tính giả:\n",
    "    - Chọn giá trị ngưỡng t lớn\n",
    "    - Độ đặc hiệu lớn, độ nhạy nhỏ\n",
    " \n",
    "- TH2: Nếu muốn giảm sai số âm tính giả:\n",
    "    - Chọn giá trị ngưỡng t nhỏ\n",
    "    - Độ đặc hiệu nhỏ, độ nhạy lớn\n",
    "\n",
    "- Lựa chọn giá trị ngưỡng t tùy thuộc vào sai số nào quan trọng hơn trong mô hình:\n",
    "    - Gọi a là chi phí của KH vỡ nợ khi dự báo không vỡ nợ\n",
    "    - Gọi b là chi phí của KH không vỡ nợ khi dự báo vỡ nợ (Thông thường a > b)\n",
    "    - Tổng chi phí = a * Âm tính giả + b * Dương tính giả\n",
    "    - Lựa chọn mức ngưỡng sao cho tổng chi phí nhỏ nhất"
   ]
  },
  {
   "cell_type": "markdown",
   "id": "567bb399-72f7-4463-acca-3e2713bc02f5",
   "metadata": {},
   "source": [
    "# Đường ROC: Thể hiện sự đánh đổi giữa độ nhạy và độ đặc hiệu khi giá trị ngưỡng không đổi.\n",
    "- Trục x = `FPR`: Sai số dương tính giả (1 - Độ đặc hiệu)\n",
    "- Trục y - `TPR`: Độ nhạy\n",
    "- Khi độ nhạy tăng thì sai số dương tính giả tăng và ngược lại"
   ]
  },
  {
   "cell_type": "markdown",
   "id": "1fc1c94f-a51f-4aa2-bfad-8786babca642",
   "metadata": {},
   "source": [
    "# Hệ số AUC: Là diện tích phần nằm dưới đường ROC\n",
    "- AUC thể hiện khả năng dự báo của mô hình. Nó thể hiện đúng hơn so với độ chính xác của mô hình trong trường hợp mẫu không cân bằng.\n",
    "- Các trường hợp có thể xảy ra:\n",
    "    - AUC = 1: Mô hình lý tưởng\n",
    "    - 0.9 <= AUC < 1: Mô hình xuất sắc\n",
    "    - 0.8 <= AUC < 0.9: Mô hình rất tốt\n",
    "    - 0.7 <= AUC < 0.8: Mô hình tốt\n",
    "    - 0.6 <= AUC < 0.7: Mô hình có hiệu suất chấp nhận được nhưng không tốt\n",
    "    - 0.5 < AUC < 0.6: Mô hình kém hiệu quả\n",
    "    - AUC = 0.5: Mô hình không có khả năng phân biệt giữa các lớp. Hiệu suất của mô hình này tương đương với việc đoán ngẫu nhiên.\n",
    "    - AUC -> 0: Mô hình dự đoán ngược lại so với thực tế (Nói chung nên vứt vào thùng rác)"
   ]
  },
  {
   "cell_type": "markdown",
   "id": "126e1798-0581-466c-a249-c58e1bedf1dd",
   "metadata": {},
   "source": [
    "---\n",
    "# Quy trình tính toán ROC và AUC\n",
    "\n",
    "- B1: Chuẩn bị dữ liệu bao gồm các giá trị thực tế và xác suất dự đoán\n",
    "- B2: Sắp xếp dữ liệu theo thứ tự giảm dần các giá trị dự đoán\n",
    "- B3: Xác định các ngưỡng\n",
    "- B4: Tính toán TPR và FPR: Ở mỗi ngưỡng:\n",
    "    - Xác định TP, FP, FN, TN\n",
    "    - TPR = TP / (TP + FN)\n",
    "    - FPR = FN / (FP + TN)\n",
    "- B5: Phát họa các cặp (TPR, FPR) lên bản đồ --> ROC\n",
    "- B6: Tính phần diện tích nằm dưới ROC --> AUC"
   ]
  },
  {
   "cell_type": "markdown",
   "id": "05b8a9ee-b1e8-4032-8da3-618c8f083f7e",
   "metadata": {},
   "source": [
    "# Trong Python"
   ]
  },
  {
   "cell_type": "markdown",
   "id": "40b00438-1f01-42c5-8f52-5f2997aa985a",
   "metadata": {},
   "source": [
    "## Câu chuyện 1: Xây dựng mô hình Logistic\n",
    "- Sử dụng module sklearn.linear_model.LogisticRegression()\n",
    "- Các phương thức:\n",
    "    - coef_: Hệ số chặn\n",
    "    - intercept_: Hệ số tự do\n",
    "    - n_iter_"
   ]
  },
  {
   "cell_type": "code",
   "execution_count": 3,
   "id": "0e95bf7a-127c-4adb-9457-57f58b7db568",
   "metadata": {},
   "outputs": [
    {
     "name": "stdout",
     "output_type": "stream",
     "text": [
      "[1 0 2 1 1 0 1 2 1 1 2 0 0 0 0 1 2 1 1 2 0 2 0 2 2 2 2 2 0 0]\n"
     ]
    }
   ],
   "source": [
    "# Import các thư viện cần thiết\n",
    "from sklearn.model_selection import train_test_split\n",
    "from sklearn.linear_model import LogisticRegression\n",
    "from sklearn import datasets\n",
    "\n",
    "# Load dữ liệu Iris từ thư viện sklearn\n",
    "iris = datasets.load_iris()\n",
    "X = iris.data\n",
    "y = iris.target\n",
    "\n",
    "# Chia dữ liệu thành tập huấn luyện và tập kiểm tra\n",
    "X_train, X_test, y_train, y_test = train_test_split(X, y, test_size=0.2, random_state=42)\n",
    "\n",
    "# Khởi tạo mô hình hồi quy Logistic\n",
    "model = LogisticRegression()\n",
    "\n",
    "# Huấn luyện mô hình với dữ liệu\n",
    "model.fit(X_train, y_train)\n",
    "\n",
    "# Dự đoán kết quả trên tập kiểm tra\n",
    "predictions = model.predict(X_test)\n",
    "\n",
    "# In ra kết quả dự đoán\n",
    "print(predictions)\n"
   ]
  },
  {
   "cell_type": "markdown",
   "id": "62731603-33b0-4cb5-964e-c4baf5aa9984",
   "metadata": {},
   "source": [
    "### Những đoạn code khó:\n",
    "\n",
    "1. Chia dữ liệu: Chúng ta chia bộ dữ liệu thành hai phần: tập huấn luyện (80% dữ liệu) và tập kiểm tra (20% dữ liệu). Tập huấn luyện được sử dụng để “dạy” mô hình, trong khi tập kiểm tra được sử dụng để đánh giá hiệu suất của mô hình.\n",
    "\n",
    "2. Khởi tạo và huấn luyện mô hình: Chúng ta khởi tạo một mô hình hồi quy Logistic và sau đó “dạy” mô hình này bằng cách sử dụng dữ liệu từ tập huấn luyện.\n",
    "\n",
    "3. Dự đoán kết quả: Cuối cùng, chúng ta sử dụng mô hình đã được huấn luyện để dự đoán nhãn (loài hoa) cho dữ liệu trong tập kiểm tra.\n",
    "\n",
    "4. Kết quả [1 0 2 1 1 0 1 2 1 1 2 0 0 0 0 1 2 1 1 2 0 2 0 2 2 2 2 2 0 0] là một mảng các nhãn dự đoán cho dữ liệu trong tập kiểm tra. Mỗi số trong mảng tương ứng với một loài hoa: 0 cho Iris Setosa, 1 cho Iris Versicolour, và 2 cho Iris Virginica. Ví dụ, dự đoán đầu tiên 1 tương ứng với loài hoa Iris Versicolour."
   ]
  },
  {
   "cell_type": "markdown",
   "id": "852567f1-551f-4dee-a543-733de892afeb",
   "metadata": {},
   "source": [
    "## Câu chuyện 2: Thu kết quả:\n",
    "- Sử dụng `sklearn.metrics`\n",
    "- Các lớp con:\n",
    "    - `cm = confusion_matrix(y_test, predictation)`: Tính toán ma trận nhầm lẫn\n",
    "    - `tn = [i, i]`: Giá trị tn\n",
    "    - `fp = cm[i,:].sum() - cm[i,i]`: Giá trị fp\n",
    "    - `fn = cm[:,i].sum() - cm[i,i]`: Giá trị fn\n",
    "    - `tp = cm.sum() - tn - fp - fn`: Giá trị tp\n",
    "    - `auc = roc_auc_score(y_test, model.predict_proba(X_test), multi_class='ovo')`: Giá trị auc\n",
    "    - `fpr[i], tpr[i], _ = roc_curve(y_test == i, model.predict_proba(X_test)[:,i])`: Tính toán và lưu giá trị FPR và TPR cho lớp i bằng cách sử dụng hàm roc_curve\n",
    "    - `model.predict_proba(X_test)[:,i]` trả về xác suất mà mô hình dự đoán cho mỗi mẫu thuộc lớp i\n"
   ]
  },
  {
   "cell_type": "code",
   "execution_count": 7,
   "id": "fdf50883-0e56-4ec8-a50f-37c3c874dd9e",
   "metadata": {},
   "outputs": [
    {
     "name": "stdout",
     "output_type": "stream",
     "text": [
      "Confusion matrix:\n",
      "[[10  0  0]\n",
      " [ 0  9  0]\n",
      " [ 0  0 11]]\n",
      "\n",
      "Class 0:\n",
      "True Negatives: 10\n",
      "False Positives: 0\n",
      "False Negatives: 0\n",
      "True Positives: 20\n",
      "\n",
      "Class 1:\n",
      "True Negatives: 9\n",
      "False Positives: 0\n",
      "False Negatives: 0\n",
      "True Positives: 21\n",
      "\n",
      "Class 2:\n",
      "True Negatives: 11\n",
      "False Positives: 0\n",
      "False Negatives: 0\n",
      "True Positives: 19\n",
      "\n",
      "ROC AUC: 1.0\n"
     ]
    },
    {
     "data": {
      "image/png": "[encoded data removed]",
      "text/plain": [
       "<Figure size 640x480 with 1 Axes>"
      ]
     },
     "metadata": {},
     "output_type": "display_data"
    }
   ],
   "source": [
    "from sklearn.metrics import confusion_matrix, roc_auc_score, roc_curve\n",
    "import matplotlib.pyplot as plt\n",
    "\n",
    "# Tính toán ma trận nhầm lẫn\n",
    "cm = confusion_matrix(y_test, predictions)\n",
    "\n",
    "# Hiển thị ma trận nhầm lẫn\n",
    "print('Confusion matrix:')\n",
    "print(cm)\n",
    "\n",
    "# Tính toán TN, FP, FN, TP cho mỗi lớp\n",
    "for i in range(3):\n",
    "    tn = cm[i,i]\n",
    "    fp = cm[i,:].sum() - cm[i,i]\n",
    "    fn = cm[:,i].sum() - cm[i,i]\n",
    "    tp = cm.sum() - tn - fp - fn\n",
    "    print(f'\\nClass {i}:')\n",
    "    print(f'True Negatives: {tn}')\n",
    "    print(f'False Positives: {fp}')\n",
    "    print(f'False Negatives: {fn}')\n",
    "    print(f'True Positives: {tp}')\n",
    "\n",
    "# Tính toán và in ra ROC AUC\n",
    "roc_auc = roc_auc_score(y_test, model.predict_proba(X_test), multi_class='ovo')\n",
    "print(f'\\nROC AUC: {roc_auc}')\n",
    "\n",
    "# Vẽ đường ROC cho mỗi lớp\n",
    "fpr = dict()\n",
    "tpr = dict()\n",
    "for i in range(3):\n",
    "    fpr[i], tpr[i], _ = roc_curve(y_test == i, model.predict_proba(X_test)[:,i])\n",
    "    plt.plot(fpr[i], tpr[i], label=f'ROC curve of class {i} (area = {roc_auc_score(y_test==i, model.predict_proba(X_test)[:,i]):.2f})')\n",
    "plt.plot([0, 1], [0, 1], 'k--')\n",
    "plt.xlim([0.0, 1.0])\n",
    "plt.ylim([0.0, 1.05])\n",
    "plt.xlabel('False Positive Rate')\n",
    "plt.ylabel('True Positive Rate')\n",
    "plt.title('Receiver Operating Characteristic')\n",
    "plt.legend(loc=\"lower right\")\n",
    "plt.show()\n"
   ]
  }
 ],
 "metadata": {
  "kernelspec": {
   "display_name": "Python 3 (ipykernel)",
   "language": "python",
   "name": "python3"
  },
  "language_info": {
   "codemirror_mode": {
    "name": "ipython",
    "version": 3
   },
   "file_extension": ".py",
   "mimetype": "text/x-python",
   "name": "python",
   "nbconvert_exporter": "python",
   "pygments_lexer": "ipython3",
   "version": "3.12.1"
  }
 },
 "nbformat": 4,
 "nbformat_minor": 5
}
