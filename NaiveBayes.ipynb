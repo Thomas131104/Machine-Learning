{
 "cells": [
  {
   "cell_type": "markdown",
   "id": "4cb25ad8-473e-43d6-a84a-a0a1b5bbc6a3",
   "metadata": {},
   "source": [
    "# Thuật toán Naive Bayes"
   ]
  },
  {
   "cell_type": "markdown",
   "id": "18eac874-b83c-478a-b432-a59bc5f89648",
   "metadata": {},
   "source": [
    "## **1. Khái niệm**\n",
    "\n",
    "- Naive Bayes là một thuật toán học máy phổ biến trong lĩnh vực học máy và thống kê, đặc biệt là trong bài toán phân loại. Thuật toán này dựa trên định lý Bayes với giả định \"ngây thơ\" (naive) rằng các đặc trưng đầu vào là độc lập với nhau.\n",
    "\n",
    "- Naive Bayes chủ yếu sử dụng:\n",
    "    - `Định lý Bayes` là nền tảng, dựa trên giả định độc lập giữa các đặc trưng (biến ngẫu nhiên) của dữ liệu khi đã biết lớp của dữ liệu đó. Naive Bayes được sử dụng để phân loại dữ liệu dựa trên các đặc trưng có sẵn.\n",
    "    - `Định lý độc lập (Independence assumption)`: Đây là giả định \"ngây thơ\" (naive assumption) trong Naive Bayes, giả định rằng các đặc trưng (biến ngẫu nhiên) của mẫu dữ liệu là độc lập với nhau. Mặc dù giả định này thường không chính xác trong thực tế, nó giúp giảm bớt độ phức tạp của mô hình và dễ dàng tính toán xác suất có điều kiện P(X | C_k) bằng cách nhân các xác suất riêng lẻ của các đặc trưng lại với nhau."
   ]
  },
  {
   "cell_type": "markdown",
   "id": "a24f8ae0-dfdb-48c8-baf5-c549b4e6914e",
   "metadata": {},
   "source": [
    "## **2. Đặc trưng**\n",
    "\n",
    "- **Giả định độc lập**:  Naive Bayes giả định rằng các đặc trưng của mẫu dữ liệu là độc lập với nhau khi biết lớp của mẫu dữ liệu đó. Điều này có nghĩa là xác suất của mỗi đặc trưng không phụ thuộc vào các đặc trưng khác trong mẫu dữ liệu. Tuy giả định này thường không hoàn toàn chính xác trong thực tế, nhưng nó giúp đơn giản hóa tính toán và thường cho kết quả tốt đối với các bài toán phân loại.\n",
    "\n",
    "- **Xác suất có điều kiện**: Dựa trên định lý Bayes\n",
    "\n",
    "- **Mô hình xác suất**: Naive Bayes là một mô hình xác suất (probabilistic model), nghĩa là nó dựa trên xác suất để đưa ra dự đoán. Thuật toán này không chỉ đưa ra dự đoán về lớp của mẫu dữ liệu mà còn cung cấp các xác suất để đánh giá mức độ tin cậy của dự đoán đó.\n",
    "\n",
    "- **Tính đơn giản và dễ triển khai**: Naive Bayes có cấu trúc đơn giản và dễ triển khai. Vì vậy, nó thường được sử dụng làm một thuật toán cơ sở cho các bài toán phân loại và trong các hệ thống thời gian thực."
   ]
  },
  {
   "cell_type": "markdown",
   "id": "41c368ca-3cbd-41e1-a557-1cd64e2e84c1",
   "metadata": {},
   "source": [
    "## **3. Tiêu chí đánh giá mô hình**\n",
    "\n",
    "- `Accuracy (Độ chính xác)`: Là tỷ lệ số lượng dự đoán đúng trên tổng số lượng dự đoán. Đây là phương pháp đánh giá cơ bản và thường được sử dụng đối với các bài toán phân loại có sự cân bằng giữa các lớp.\n",
    "\n",
    "- `Precision (Độ chính xác của lớp)`: Được tính bằng tỷ lệ số lượng các mẫu dự đoán là đúng trong số các mẫu được dự đoán là positive (được phân loại là positive).\n",
    "\n",
    "- `Recall (Tỉ lệ bắt được)`: Được tính bằng tỷ lệ số lượng các mẫu dự đoán là đúng trong số các mẫu thực sự là positive.\n",
    "\n",
    "- `F1-score`: Là trung bình điều hòa giữa precision và recall, cung cấp một đánh giá tổng thể về hiệu suất của mô hình.\n",
    "\n",
    "- `Confusion Matrix (Ma trận nhầm lẫn)`: Là một bảng xác định số lượng các dự đoán đúng và sai của mô hình trên từng lớp.\n",
    "\n",
    "- `ROC Curve và AUC (Area Under Curve)`: Được sử dụng đặc biệt trong các bài toán phân loại nhị phân để đánh giá hiệu suất của mô hình.\n",
    "\n",
    "- `Cross-validation`: Là kỹ thuật chia dữ liệu thành các tập train và test khác nhau để đánh giá hiệu suất của mô hình."
   ]
  },
  {
   "cell_type": "markdown",
   "id": "c8a690dd-3efe-4310-8f0f-9a72853d4e78",
   "metadata": {},
   "source": [
    "## **4. Ví dụ bằng sklearn**"
   ]
  },
  {
   "cell_type": "code",
   "execution_count": 1,
   "id": "fa6cadd2-eb63-44da-b1f1-91a06804dfc7",
   "metadata": {},
   "outputs": [
    {
     "name": "stdout",
     "output_type": "stream",
     "text": [
      "Accuracy using Gaussian Naive Bayes: 0.9777777777777777\n"
     ]
    }
   ],
   "source": [
    "from sklearn.datasets import load_iris\n",
    "from sklearn.model_selection import train_test_split\n",
    "from sklearn.naive_bayes import GaussianNB\n",
    "from sklearn.metrics import accuracy_score\n",
    "\n",
    "# Load iris dataset\n",
    "iris = load_iris()\n",
    "X = iris.data\n",
    "y = iris.target\n",
    "\n",
    "# Split data into training and test sets\n",
    "X_train, X_test, y_train, y_test = train_test_split(X, y, test_size=0.3, random_state=42)\n",
    "\n",
    "# Initialize Gaussian Naive Bayes classifier\n",
    "gnb = GaussianNB()\n",
    "\n",
    "# Train the classifier\n",
    "gnb.fit(X_train, y_train)\n",
    "\n",
    "# Predict on the test data\n",
    "y_pred = gnb.predict(X_test)\n",
    "\n",
    "# Calculate accuracy\n",
    "accuracy = accuracy_score(y_test, y_pred)\n",
    "print(f\"Accuracy using Gaussian Naive Bayes: {accuracy}\")\n"
   ]
  },
  {
   "cell_type": "markdown",
   "id": "835fd707-390a-4ff9-a05c-09bce097a7b9",
   "metadata": {},
   "source": [
    "## **5. Các hàm cơ bản**\n",
    "\n",
    "**1. Tương ứng với các loại phân phối (Sử dụng thư viện `sklearn.naive_bayes`)**\n",
    "\n",
    "- **`GaussianNB()`** - Phân phối Gauss\n",
    "- **`MultinomialNB()`** - Phân phối siêu bội\n",
    "- **`BernouliNB()`** - Phân phối nhị thức\n",
    "- **`ComplementNB()`** - Dùng cho các bài toán phân loại văn bản và các bài toán có đặc trưng đếm.\n",
    "\n",
    "\n",
    "**2. Các hàm phổ thông (Sử dụng thư viện `sklearn.model_selection`)**\n",
    "\n",
    "- **`fit(X, y)`**: Huấn luyện mô hình trên tập huấn luyện.\n",
    "- **`predict(X)`**: Dự đoán nhãn cho tập dữ liệu mới.\n",
    "- **`predict_proba(X)`**: Trả về xác suất của các lớp cho từng mẫu.\n",
    "- **`score(X, y)`**: Tính toán độ chính xác của mô hình trên tập dữ liệu kiểm tra."
   ]
  },
  {
   "cell_type": "code",
   "execution_count": 10,
   "id": "57232e36-2eb0-4818-b894-46f1281d48c5",
   "metadata": {},
   "outputs": [
    {
     "name": "stdout",
     "output_type": "stream",
     "text": [
      "Độ chính xác trên tập huấn luyện: 1.0\n",
      "Độ chính xác trên tập test: 1.0\n"
     ]
    }
   ],
   "source": [
    "import pandas as pd\n",
    "from sklearn.model_selection import train_test_split\n",
    "from sklearn.naive_bayes import GaussianNB\n",
    "from sklearn.metrics import accuracy_score\n",
    "\n",
    "# Đọc dữ liệu từ file Excel\n",
    "df = pd.read_excel(r\"D:\\Root\\DataScience\\TH\\CoBan\\BDKH_TTX\\DanhSachSinhVien.xlsx\")\n",
    "df = df.fillna(0)\n",
    "\n",
    "# Ánh xạ điểm số tổng kết thành nhãn Pass/Fail\n",
    "df['KetQua'] = df['TỔNG'].apply(lambda x: 'Pass' if x >= 5 else 'Fail')\n",
    "\n",
    "# Chọn lại các cột dữ liệu quan trọng\n",
    "X = df[['BC giữa kì (30%)', 'BC cuối kì (50%)']]\n",
    "y = df['KetQua']\n",
    "\n",
    "# Chia dữ liệu thành train và test set\n",
    "X_train, X_test, y_train, y_test = train_test_split(X, y, test_size=0.3, random_state=42)\n",
    "\n",
    "# Khởi tạo và huấn luyện mô hình Gaussian Naive Bayes\n",
    "gnb = GaussianNB()\n",
    "gnb.fit(X_train, y_train)\n",
    "\n",
    "# Dự đoán trên tập huấn luyện\n",
    "y_train_pred = gnb.predict(X_train)\n",
    "\n",
    "# Dự đoán trên tập test\n",
    "y_test_pred = gnb.predict(X_test)\n",
    "\n",
    "# Đánh giá độ chính xác của mô hình trên tập huấn luyện và tập test\n",
    "train_accuracy = accuracy_score(y_train, y_train_pred)\n",
    "test_accuracy = accuracy_score(y_test, y_test_pred)\n",
    "\n",
    "print(f\"Độ chính xác trên tập huấn luyện: {train_accuracy}\")\n",
    "print(f\"Độ chính xác trên tập test: {test_accuracy}\")\n"
   ]
  },
  {
   "cell_type": "markdown",
   "id": "1baf6a6f-a916-4924-9000-28c040cd841e",
   "metadata": {},
   "source": [
    "## **6. Dấu hiệu mô hình không đáng tin cậy**\n",
    "\n",
    "- **Dữ liệu không phù hợp**: Khi dữ liệu không tuân theo giả định của Naive Bayes về độc lập giữa các biến độc lập (independence assumption). Ví dụ, nếu có sự phụ thuộc mạnh mẽ giữa các biến độc lập thì Naive Bayes có thể dự đoán sai.\n",
    "\n",
    "- **Phân phối dữ liệu không phù hợp**: Nếu dữ liệu của bạn không phân phối theo phân phối Gaussian (đối với Gaussian Naive Bayes) hoặc không phân phối đồng nhất (uniform distribution), mô hình có thể không phù hợp và dẫn đến dự đoán không chính xác.\n",
    "\n",
    "- **Quá ít dữ liệu huấn luyện**: Khi số lượng dữ liệu huấn luyện quá ít, mô hình Naive Bayes có thể bị overfitting (hiệu ứng quá khớp) và không thể tổng quát hóa tốt trên dữ liệu mới.\n",
    "\n",
    "- **Biến độc lập không hoàn toàn đúng**: Giả định về độc lập giữa các biến độc lập trong Naive Bayes là một giả định mạnh mẽ và không phải lúc nào cũng đúng trong thực tế. Nếu các biến có sự phụ thuộc mạnh mẽ vào nhau, mô hình sẽ dự đoán sai.\n",
    "\n",
    "- **Dữ liệu nhiễu hoặc thiếu sót**: Nếu dữ liệu của bạn chứa nhiễu cao hoặc thiếu sót nghiêm trọng, mô hình Naive Bayes có thể không đủ mạnh để xử lý và dự đoán chính xác.\n",
    "\n",
    "- **Các giả định không phù hợp với vấn đề cụ thể**: Đôi khi, vấn đề bạn đang cố gắng giải quyết không phù hợp với mô hình Naive Bayes. Ví dụ, nếu có mối quan hệ phức tạp giữa các biến độc lập, mô hình có thể không thể phân biệt và dự đoán đúng."
   ]
  }
 ],
 "metadata": {
  "kernelspec": {
   "display_name": "Python 3 (ipykernel)",
   "language": "python",
   "name": "python3"
  },
  "language_info": {
   "codemirror_mode": {
    "name": "ipython",
    "version": 3
   },
   "file_extension": ".py",
   "mimetype": "text/x-python",
   "name": "python",
   "nbconvert_exporter": "python",
   "pygments_lexer": "ipython3",
   "version": "3.12.1"
  }
 },
 "nbformat": 4,
 "nbformat_minor": 5
}
